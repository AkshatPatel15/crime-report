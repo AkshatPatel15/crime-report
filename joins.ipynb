{
  "cells": [
    {
      "cell_type": "markdown",
      "metadata": {
        "id": "view-in-github",
        "colab_type": "text"
      },
      "source": [
        "<a href=\"https://colab.research.google.com/github/AkshatPatel15/crime-report/blob/main/joins.ipynb\" target=\"_parent\"><img src=\"https://colab.research.google.com/assets/colab-badge.svg\" alt=\"Open In Colab\"/></a>"
      ]
    },
    {
      "cell_type": "code",
      "execution_count": 2,
      "metadata": {
        "colab": {
          "base_uri": "https://localhost:8080/"
        },
        "id": "mog8xBVDn8LO",
        "outputId": "2e6ed6ba-86bf-4455-e49e-23a80ca038f6"
      },
      "outputs": [
        {
          "output_type": "stream",
          "name": "stdout",
          "text": [
            "Looking in indexes: https://pypi.org/simple, https://us-python.pkg.dev/colab-wheels/public/simple/\n",
            "Collecting pyspark\n",
            "  Downloading pyspark-3.3.0.tar.gz (281.3 MB)\n",
            "\u001b[K     |████████████████████████████████| 281.3 MB 55 kB/s \n",
            "\u001b[?25hCollecting py4j==0.10.9.5\n",
            "  Downloading py4j-0.10.9.5-py2.py3-none-any.whl (199 kB)\n",
            "\u001b[K     |████████████████████████████████| 199 kB 35.5 MB/s \n",
            "\u001b[?25hBuilding wheels for collected packages: pyspark\n",
            "  Building wheel for pyspark (setup.py) ... \u001b[?25l\u001b[?25hdone\n",
            "  Created wheel for pyspark: filename=pyspark-3.3.0-py2.py3-none-any.whl size=281764026 sha256=0c506e83e6fb0c9947fed65657a90577e71ce0c3cc3ebf242339dd31fdc7276c\n",
            "  Stored in directory: /root/.cache/pip/wheels/7a/8e/1b/f73a52650d2e5f337708d9f6a1750d451a7349a867f928b885\n",
            "Successfully built pyspark\n",
            "Installing collected packages: py4j, pyspark\n",
            "Successfully installed py4j-0.10.9.5 pyspark-3.3.0\n"
          ]
        }
      ],
      "source": [
        "! pip install pyspark"
      ]
    },
    {
      "cell_type": "code",
      "execution_count": null,
      "metadata": {
        "colab": {
          "base_uri": "https://localhost:8080/"
        },
        "id": "Kw-Ibmqxn_Bn",
        "outputId": "b90d1c90-9234-4a6b-f793-c6c106220654"
      },
      "outputs": [
        {
          "name": "stdout",
          "output_type": "stream",
          "text": [
            "--2022-09-23 18:35:25--  https://data.cityofchicago.org/api/views/z8bn-74gv/rows.csv?accessType=DOWNLOAD\n",
            "Resolving data.cityofchicago.org (data.cityofchicago.org)... 52.206.68.26, 52.206.140.199, 52.206.140.205\n",
            "Connecting to data.cityofchicago.org (data.cityofchicago.org)|52.206.68.26|:443... connected.\n",
            "HTTP request sent, awaiting response... 200 OK\n",
            "Length: unspecified [text/csv]\n",
            "Saving to: ‘rows.csv?accessType=DOWNLOAD’\n",
            "\n",
            "rows.csv?accessType     [ <=>                ]   5.57K  --.-KB/s    in 0s      \n",
            "\n",
            "2022-09-23 18:35:26 (453 MB/s) - ‘rows.csv?accessType=DOWNLOAD’ saved [5699]\n",
            "\n"
          ]
        }
      ],
      "source": [
        "# ! wget \"https://data.cityofchicago.org/api/views/z8bn-74gv/rows.csv?accessType=DOWNLOAD\""
      ]
    },
    {
      "cell_type": "code",
      "execution_count": 7,
      "metadata": {
        "colab": {
          "base_uri": "https://localhost:8080/"
        },
        "id": "T2Cs4BSUo1xr",
        "outputId": "65e6c303-7a5b-4046-e7ed-7d65d59528b3"
      },
      "outputs": [
        {
          "output_type": "stream",
          "name": "stdout",
          "text": [
            "Mounted at /content/drive\n"
          ]
        }
      ],
      "source": [
        "from google.colab import drive\n",
        "drive.mount(\"/content/drive\")"
      ]
    },
    {
      "cell_type": "code",
      "execution_count": 8,
      "metadata": {
        "id": "KGr5bmroqY02"
      },
      "outputs": [],
      "source": [
        "# ! mv police_station.csv drive/MyDrive/google\\ colab/police_station.csv"
      ]
    },
    {
      "cell_type": "code",
      "execution_count": 9,
      "metadata": {
        "id": "DlvT6QOYqlcl"
      },
      "outputs": [],
      "source": [
        "! cp drive/MyDrive/google\\ colab/police_station.csv ../content/police_station.csv"
      ]
    },
    {
      "cell_type": "code",
      "execution_count": 10,
      "metadata": {
        "id": "4iHOq-bGrsJ6"
      },
      "outputs": [],
      "source": [
        "# ! ls drive/MyDrive/google\\ colab"
      ]
    },
    {
      "cell_type": "code",
      "execution_count": 11,
      "metadata": {
        "id": "CgwO25BCrPKJ"
      },
      "outputs": [],
      "source": [
        "! cp drive/MyDrive/google\\ colab/colab.csv ../content/crime.csv"
      ]
    },
    {
      "cell_type": "code",
      "source": [
        "!ls"
      ],
      "metadata": {
        "colab": {
          "base_uri": "https://localhost:8080/"
        },
        "id": "dyN80qr5eyjG",
        "outputId": "aefea159-f1ef-4955-e79d-433a71812d0a"
      },
      "execution_count": 12,
      "outputs": [
        {
          "output_type": "stream",
          "name": "stdout",
          "text": [
            "crime.csv  drive  police_station.csv  sample_data\n"
          ]
        }
      ]
    },
    {
      "cell_type": "code",
      "execution_count": 13,
      "metadata": {
        "id": "k6fjNo5Jr8jl"
      },
      "outputs": [],
      "source": [
        "from pyspark.sql import SparkSession\n",
        "spark = SparkSession.builder.getOrCreate()"
      ]
    },
    {
      "cell_type": "code",
      "execution_count": 14,
      "metadata": {
        "colab": {
          "base_uri": "https://localhost:8080/",
          "height": 221
        },
        "id": "n3kUaNYatPqm",
        "outputId": "ac771011-36a2-4451-dad6-4c822b82cc29"
      },
      "outputs": [
        {
          "output_type": "execute_result",
          "data": {
            "text/plain": [
              "<pyspark.sql.session.SparkSession at 0x7efff3e32690>"
            ],
            "text/html": [
              "\n",
              "            <div>\n",
              "                <p><b>SparkSession - in-memory</b></p>\n",
              "                \n",
              "        <div>\n",
              "            <p><b>SparkContext</b></p>\n",
              "\n",
              "            <p><a href=\"http://4d79d6cdfcca:4040\">Spark UI</a></p>\n",
              "\n",
              "            <dl>\n",
              "              <dt>Version</dt>\n",
              "                <dd><code>v3.3.0</code></dd>\n",
              "              <dt>Master</dt>\n",
              "                <dd><code>local[*]</code></dd>\n",
              "              <dt>AppName</dt>\n",
              "                <dd><code>pyspark-shell</code></dd>\n",
              "            </dl>\n",
              "        </div>\n",
              "        \n",
              "            </div>\n",
              "        "
            ]
          },
          "metadata": {},
          "execution_count": 14
        }
      ],
      "source": [
        "spark"
      ]
    },
    {
      "cell_type": "code",
      "execution_count": 15,
      "metadata": {
        "colab": {
          "base_uri": "https://localhost:8080/"
        },
        "id": "yANGTUjb9BZO",
        "outputId": "e1d26f4d-a359-4741-8d4f-aef82bc73ee0"
      },
      "outputs": [
        {
          "output_type": "stream",
          "name": "stdout",
          "text": [
            "+------------+-------------+-------------------+-------+-----+-----+--------------------+------------+------------+------------+------------+------------+-----------+------------+--------------------+\n",
            "|    DISTRICT|DISTRICT NAME|            ADDRESS|   CITY|STATE|  ZIP|             WEBSITE|       PHONE|         FAX|         TTY|X COORDINATE|Y COORDINATE|   LATITUDE|   LONGITUDE|            LOCATION|\n",
            "+------------+-------------+-------------------+-------+-----+-----+--------------------+------------+------------+------------+------------+------------+-----------+------------+--------------------+\n",
            "|Headquarters| Headquarters|3510 S Michigan Ave|Chicago|   IL|60653|http://home.chica...|        null|        null|        null| 1177731.401| 1881697.404|41.83070169|-87.62339535|(41.8307016873, -...|\n",
            "|          18|   Near North| 1160 N Larrabee St|Chicago|   IL|60610|http://home.chica...|312-742-5870|312-742-5771|312-742-5773| 1172080.029| 1908086.527|41.90324165|-87.64335214|(41.9032416531, -...|\n",
            "|          19|    Town Hall|   850 W Addison St|Chicago|   IL|60613|http://home.chica...|312-744-8320|312-744-4481|312-744-8011| 1169730.744| 1924160.317|41.94740046|-87.65151202|(41.9474004564, -...|\n",
            "|          20|      Lincoln| 5400 N Lincoln Ave|Chicago|   IL|60625|http://home.chica...|312-742-8714|312-742-8803|312-742-8841| 1158399.146| 1935788.826|41.97954951|-87.69284451|(41.9795495131, -...|\n",
            "|          22|  Morgan Park|1900 W Monterey Ave|Chicago|   IL|60643|http://home.chica...|312-745-0710|312-745-0814|312-745-0569| 1165825.476| 1830851.333|41.69143478|-87.66852039|(41.6914347795, -...|\n",
            "+------------+-------------+-------------------+-------+-----+-----+--------------------+------------+------------+------------+------------+------------+-----------+------------+--------------------+\n",
            "only showing top 5 rows\n",
            "\n"
          ]
        }
      ],
      "source": [
        "df_police_station = spark.read.csv('police_station.csv',header=True)\n",
        "df_police_station.show(5)"
      ]
    },
    {
      "cell_type": "code",
      "execution_count": 16,
      "metadata": {
        "colab": {
          "base_uri": "https://localhost:8080/"
        },
        "id": "eFSS_cYM9V34",
        "outputId": "754d04be-4199-4606-ba12-2b38572a0ce9"
      },
      "outputs": [
        {
          "output_type": "stream",
          "name": "stdout",
          "text": [
            "+--------+-----------+--------------------+--------------------+----+------------+--------------------+--------------------+------+--------+----+--------+----+--------------+--------+------------+------------+----+--------------------+------------+-------------+--------------------+\n",
            "|      ID|Case Number|                Date|               Block|IUCR|Primary Type|         Description|Location Description|Arrest|Domestic|Beat|District|Ward|Community Area|FBI Code|X Coordinate|Y Coordinate|Year|          Updated On|    Latitude|    Longitude|            Location|\n",
            "+--------+-----------+--------------------+--------------------+----+------------+--------------------+--------------------+------+--------+----+--------+----+--------------+--------+------------+------------+----+--------------------+------------+-------------+--------------------+\n",
            "|10224738|   HY411648|09/05/2015 01:30:...|     043XX S WOOD ST|0486|     BATTERY|DOMESTIC BATTERY ...|           RESIDENCE| false|    true|0924|     009|  12|            61|     08B|     1165074|     1875917|2015|02/10/2018 03:50:...|41.815117282|-87.669999562|(41.815117282, -8...|\n",
            "|10224739|   HY411615|09/04/2015 11:30:...| 008XX N CENTRAL AVE|0870|       THEFT|      POCKET-PICKING|             CTA BUS| false|   false|1511|     015|  29|            25|      06|     1138875|     1904869|2015|02/10/2018 03:50:...|41.895080471|-87.765400451|(41.895080471, -8...|\n",
            "|11646166|   JC213529|09/01/2018 12:01:...|082XX S INGLESIDE...|0810|       THEFT|           OVER $500|           RESIDENCE| false|    true|0631|     006|   8|            44|      06|        null|        null|2018|04/06/2019 04:04:...|        null|         null|                null|\n",
            "|10224740|   HY411595|09/05/2015 12:45:...|   035XX W BARRY AVE|2023|   NARCOTICS|POSS: HEROIN(BRN/...|            SIDEWALK|  true|   false|1412|     014|  35|            21|      18|     1152037|     1920384|2015|02/10/2018 03:50:...|41.937405765|-87.716649687|(41.937405765, -8...|\n",
            "|10224741|   HY411610|09/05/2015 01:00:...| 0000X N LARAMIE AVE|0560|     ASSAULT|              SIMPLE|           APARTMENT| false|    true|1522|     015|  28|            25|     08A|     1141706|     1900086|2015|02/10/2018 03:50:...|41.881903443|-87.755121152|(41.881903443, -8...|\n",
            "+--------+-----------+--------------------+--------------------+----+------------+--------------------+--------------------+------+--------+----+--------+----+--------------+--------+------------+------------+----+--------------------+------------+-------------+--------------------+\n",
            "only showing top 5 rows\n",
            "\n"
          ]
        }
      ],
      "source": [
        "df_crime_report = spark.read.csv('crime.csv',header=True)\n",
        "df_crime_report.show(5)"
      ]
    },
    {
      "cell_type": "code",
      "execution_count": 23,
      "metadata": {
        "colab": {
          "base_uri": "https://localhost:8080/"
        },
        "id": "AaveIYau9o6p",
        "outputId": "8bc73d62-5d3b-46fd-d6df-d65b3c3e4607"
      },
      "outputs": [
        {
          "output_type": "stream",
          "name": "stdout",
          "text": [
            "+--------+\n",
            "|District|\n",
            "+--------+\n",
            "|     009|\n",
            "|     015|\n",
            "|     006|\n",
            "|     014|\n",
            "|     015|\n",
            "|     006|\n",
            "|     014|\n",
            "|     010|\n",
            "|     012|\n",
            "|     008|\n",
            "|     008|\n",
            "|     016|\n",
            "|     005|\n",
            "|     002|\n",
            "|     014|\n",
            "|     006|\n",
            "|     015|\n",
            "|     004|\n",
            "|     022|\n",
            "|     016|\n",
            "+--------+\n",
            "only showing top 20 rows\n",
            "\n"
          ]
        }
      ],
      "source": [
        "df_crime_report.select(\"District\").show()"
      ]
    },
    {
      "cell_type": "code",
      "execution_count": 22,
      "metadata": {
        "id": "AW0_VkqQ-Qm2",
        "colab": {
          "base_uri": "https://localhost:8080/"
        },
        "outputId": "5ec13062-84d1-4166-8b12-044b1be8e64c"
      },
      "outputs": [
        {
          "output_type": "stream",
          "name": "stdout",
          "text": [
            "+--------------------+\n",
            "|            DISTRICT|\n",
            "+--------------------+\n",
            "|        Headquarters|\n",
            "|                  18|\n",
            "|                  19|\n",
            "|                  20|\n",
            "|                  22|\n",
            "|                  24|\n",
            "|                  25|\n",
            "|                   1|\n",
            "|                   2|\n",
            "|                   3|\n",
            "|                   4|\n",
            "|                   5|\n",
            "|                   6|\n",
            "|                   7|\n",
            "|                   8|\n",
            "|                   9|\n",
            "|                  10|\n",
            "|                  11|\n",
            "|                  12|\n",
            "|\",Chicago,IL,6060...|\n",
            "+--------------------+\n",
            "only showing top 20 rows\n",
            "\n"
          ]
        }
      ],
      "source": [
        "df_police_station.select(\"DISTRICT\").show()"
      ]
    },
    {
      "cell_type": "code",
      "source": [
        "from pyspark.sql.functions import lpad, col\n",
        "df_police_station.select(lpad(col(\"DISTRICT\"),3,\"0\")).show()\n"
      ],
      "metadata": {
        "colab": {
          "base_uri": "https://localhost:8080/"
        },
        "id": "VvEPvfvyhBBD",
        "outputId": "16445ad2-0430-4615-bdc8-f4fcc6e3398d"
      },
      "execution_count": 29,
      "outputs": [
        {
          "output_type": "stream",
          "name": "stdout",
          "text": [
            "+--------------------+\n",
            "|lpad(DISTRICT, 3, 0)|\n",
            "+--------------------+\n",
            "|                 Hea|\n",
            "|                 018|\n",
            "|                 019|\n",
            "|                 020|\n",
            "|                 022|\n",
            "|                 024|\n",
            "|                 025|\n",
            "|                 001|\n",
            "|                 002|\n",
            "|                 003|\n",
            "|                 004|\n",
            "|                 005|\n",
            "|                 006|\n",
            "|                 007|\n",
            "|                 008|\n",
            "|                 009|\n",
            "|                 010|\n",
            "|                 011|\n",
            "|                 012|\n",
            "|                 \",C|\n",
            "+--------------------+\n",
            "only showing top 20 rows\n",
            "\n"
          ]
        }
      ]
    },
    {
      "cell_type": "code",
      "source": [
        "df_police_station = df_police_station.withColumn(\"formatted_district\",lpad(col(\"DISTRICT\"),3,'0'))\n",
        "df_police_station.show()"
      ],
      "metadata": {
        "colab": {
          "base_uri": "https://localhost:8080/"
        },
        "id": "1gcc7oiYiIE_",
        "outputId": "3d351939-caa6-4c98-f7f0-0c001605d191"
      },
      "execution_count": 32,
      "outputs": [
        {
          "output_type": "stream",
          "name": "stdout",
          "text": [
            "+--------------------+-----------------+--------------------+-------+-----+-----+--------------------+------------+------------+------------+------------+------------+-----------+------------+--------------------+------------------+------------------+\n",
            "|            DISTRICT|    DISTRICT NAME|             ADDRESS|   CITY|STATE|  ZIP|             WEBSITE|       PHONE|         FAX|         TTY|X COORDINATE|Y COORDINATE|   LATITUDE|   LONGITUDE|            LOCATION|formatted district|formatted_district|\n",
            "+--------------------+-----------------+--------------------+-------+-----+-----+--------------------+------------+------------+------------+------------+------------+-----------+------------+--------------------+------------------+------------------+\n",
            "|        Headquarters|     Headquarters| 3510 S Michigan Ave|Chicago|   IL|60653|http://home.chica...|        null|        null|        null| 1177731.401| 1881697.404|41.83070169|-87.62339535|(41.8307016873, -...|               Hea|               Hea|\n",
            "|                  18|       Near North|  1160 N Larrabee St|Chicago|   IL|60610|http://home.chica...|312-742-5870|312-742-5771|312-742-5773| 1172080.029| 1908086.527|41.90324165|-87.64335214|(41.9032416531, -...|               018|               018|\n",
            "|                  19|        Town Hall|    850 W Addison St|Chicago|   IL|60613|http://home.chica...|312-744-8320|312-744-4481|312-744-8011| 1169730.744| 1924160.317|41.94740046|-87.65151202|(41.9474004564, -...|               019|               019|\n",
            "|                  20|          Lincoln|  5400 N Lincoln Ave|Chicago|   IL|60625|http://home.chica...|312-742-8714|312-742-8803|312-742-8841| 1158399.146| 1935788.826|41.97954951|-87.69284451|(41.9795495131, -...|               020|               020|\n",
            "|                  22|      Morgan Park| 1900 W Monterey Ave|Chicago|   IL|60643|http://home.chica...|312-745-0710|312-745-0814|312-745-0569| 1165825.476| 1830851.333|41.69143478|-87.66852039|(41.6914347795, -...|               022|               022|\n",
            "|                  24|      Rogers Park|     6464 N Clark St|Chicago|   IL|60626|http://home.chica...|312-744-5907|312-744-6928|312-744-7603| 1164193.588| 1943199.401|41.99976348|-87.67132429|(41.9997634842, -...|               024|               024|\n",
            "|                  25|    Grand Central|    5555 W Grand Ave|Chicago|   IL|60639|http://home.chica...|312-746-8605|312-746-4353|312-746-8383| 1138770.871| 1913442.439|41.91860889|-87.76557448|(41.9186088912, -...|               025|               025|\n",
            "|                   1|          Central|     1718 S State St|Chicago|   IL|60616|http://home.chica...|312-745-4290|312-745-3694|312-745-3693| 1176569.052| 1891771.704|41.85837259|-87.62735617|(41.8583725929, -...|               001|               001|\n",
            "|                   2|        Wentworth|5101 S Wentworth Ave|Chicago|   IL|60609|http://home.chica...|312-747-8366|312-747-5396|312-747-6656| 1175864.837| 1871153.753|41.80181109|-87.63056018|(41.8018110912, -...|               002|               002|\n",
            "|                   3|   Grand Crossing|7040 S Cottage Gr...|Chicago|   IL|60637|http://home.chica...|312-747-8201|312-747-5479|312-747-9168| 1182739.183| 1858317.732|41.76643089|-87.60574786|(41.7664308925, -...|               003|               003|\n",
            "|                   4|    South Chicago|     2255 E 103rd St|Chicago|   IL|60617|http://home.chica...|312-747-7581|312-747-5276|312-747-9169| 1193131.299| 1837090.265|41.70793329|-87.56834912|(41.7079332906, -...|               004|               004|\n",
            "|                   5|          Calumet|      727 E 111th St|Chicago|   IL|60628|http://home.chica...|312-747-8210|312-747-5935|312-747-9170| 1183305.427| 1831462.313|41.69272336|-87.60450587|(41.6927233639, -...|               005|               005|\n",
            "|                   6|          Gresham|   7808 S Halsted St|Chicago|   IL|60620|http://home.chica...|312-745-3617|312-745-3649|312-745-3639| 1172283.013| 1853022.646|41.75213684|-87.64422891|(41.7521368378, -...|               006|               006|\n",
            "|                   7|        Englewood|      1438 W 63rd St|Chicago|   IL|60636|http://home.chica...|312-747-8223|312-747-6558|312-747-6652| 1167659.235| 1863005.522|41.77963154|-87.66088702|(41.7796315359, -...|               007|               007|\n",
            "|                   8|     Chicago Lawn|      3420 W 63rd St|Chicago|   IL|60629|http://home.chica...|312-747-8730|312-747-8545|312-747-8116| 1154575.242| 1862672.049|41.77898719|-87.70886382|(41.778987189, -8...|               008|               008|\n",
            "|                   9|          Deering|   3120 S Halsted St|Chicago|   IL|60608|http://home.chica...|312-747-8227|312-747-5329|312-747-9172|  1171440.24| 1884085.224|41.83739443|-87.64640771|(41.8373944311, -...|               009|               009|\n",
            "|                  10|            Ogden|    3315 W Ogden Ave|Chicago|   IL|60623|http://home.chica...|312-747-7511|312-747-7429|312-747-7471| 1154500.753| 1890985.501|41.85668453|-87.70838196|(41.8566845327, -...|               010|               010|\n",
            "|                  11|         Harrison|  3151 W Harrison St|Chicago|   IL|60612|http://home.chica...|312-746-8386|312-746-4281|312-746-5151| 1155244.069| 1897148.755|41.87358229|-87.70548813|(41.8735822883, -...|               011|               011|\n",
            "|                  12|        Near West|1412 S Blue Islan...|   null| null| null|                null|        null|        null|        null|        null|        null|       null|        null|                null|               012|               012|\n",
            "|\",Chicago,IL,6060...| -87.6569725149)\"|                null|   null| null| null|                null|        null|        null|        null|        null|        null|       null|        null|                null|               \",C|               \",C|\n",
            "+--------------------+-----------------+--------------------+-------+-----+-----+--------------------+------------+------------+------------+------------+------------+-----------+------------+--------------------+------------------+------------------+\n",
            "only showing top 20 rows\n",
            "\n"
          ]
        }
      ]
    },
    {
      "cell_type": "code",
      "source": [
        "df_police_station.columns"
      ],
      "metadata": {
        "colab": {
          "base_uri": "https://localhost:8080/"
        },
        "id": "95YMMPmVkChJ",
        "outputId": "b4790612-4382-4395-fe28-ec75b24ba107"
      },
      "execution_count": 35,
      "outputs": [
        {
          "output_type": "execute_result",
          "data": {
            "text/plain": [
              "['DISTRICT',\n",
              " 'DISTRICT NAME',\n",
              " 'ADDRESS',\n",
              " 'CITY',\n",
              " 'STATE',\n",
              " 'ZIP',\n",
              " 'WEBSITE',\n",
              " 'PHONE',\n",
              " 'FAX',\n",
              " 'TTY',\n",
              " 'X COORDINATE',\n",
              " 'Y COORDINATE',\n",
              " 'LATITUDE',\n",
              " 'LONGITUDE',\n",
              " 'LOCATION',\n",
              " 'formatted district',\n",
              " 'formatted_district']"
            ]
          },
          "metadata": {},
          "execution_count": 35
        }
      ]
    },
    {
      "cell_type": "code",
      "source": [
        "df_crime_report.join(df_police_station, df_crime_report.District == df_police_station.formatted_district,'left_outer').drop('DISTRICT',\n",
        " 'CITY',\n",
        " 'STATE',\n",
        " 'ZIP',\n",
        " 'WEBSITE',\n",
        " 'PHONE',\n",
        " 'FAX',\n",
        " 'TTY',\n",
        " 'X COORDINATE',\n",
        " 'Y COORDINATE',\n",
        " 'LATITUDE',\n",
        " 'LONGITUDE',\n",
        " 'LOCATION',\n",
        " 'formatted district',\n",
        " ).show(truncate=False)"
      ],
      "metadata": {
        "colab": {
          "base_uri": "https://localhost:8080/"
        },
        "id": "9sOZse05iwNx",
        "outputId": "4fe98f38-ebd2-42a5-a7c4-e1fbc78e80f6"
      },
      "execution_count": 40,
      "outputs": [
        {
          "output_type": "stream",
          "name": "stdout",
          "text": [
            "+--------+-----------+----------------------+-----------------------+----+------------------+----------------------------------------------+------------------------------+------+--------+----+----+--------------+--------+----+----------------------+--------------+----------------------+------------------+\n",
            "|ID      |Case Number|Date                  |Block                  |IUCR|Primary Type      |Description                                   |Location Description          |Arrest|Domestic|Beat|Ward|Community Area|FBI Code|Year|Updated On            |DISTRICT NAME |ADDRESS               |formatted_district|\n",
            "+--------+-----------+----------------------+-----------------------+----+------------------+----------------------------------------------+------------------------------+------+--------+----+----+--------------+--------+----+----------------------+--------------+----------------------+------------------+\n",
            "|10224738|HY411648   |09/05/2015 01:30:00 PM|043XX S WOOD ST        |0486|BATTERY           |DOMESTIC BATTERY SIMPLE                       |RESIDENCE                     |false |true    |0924|12  |61            |08B     |2015|02/10/2018 03:50:01 PM|Deering       |3120 S Halsted St     |009               |\n",
            "|10224739|HY411615   |09/04/2015 11:30:00 AM|008XX N CENTRAL AVE    |0870|THEFT             |POCKET-PICKING                                |CTA BUS                       |false |false   |1511|29  |25            |06      |2015|02/10/2018 03:50:01 PM|Austin        |5701 W Madison St     |015               |\n",
            "|11646166|JC213529   |09/01/2018 12:01:00 AM|082XX S INGLESIDE AVE  |0810|THEFT             |OVER $500                                     |RESIDENCE                     |false |true    |0631|8   |44            |06      |2018|04/06/2019 04:04:43 PM|Gresham       |7808 S Halsted St     |006               |\n",
            "|10224740|HY411595   |09/05/2015 12:45:00 PM|035XX W BARRY AVE      |2023|NARCOTICS         |POSS: HEROIN(BRN/TAN)                         |SIDEWALK                      |true  |false   |1412|35  |21            |18      |2015|02/10/2018 03:50:01 PM|Shakespeare   |2150 N California Ave |014               |\n",
            "|10224741|HY411610   |09/05/2015 01:00:00 PM|0000X N LARAMIE AVE    |0560|ASSAULT           |SIMPLE                                        |APARTMENT                     |false |true    |1522|28  |25            |08A     |2015|02/10/2018 03:50:01 PM|Austin        |5701 W Madison St     |015               |\n",
            "|10224742|HY411435   |09/05/2015 10:55:00 AM|082XX S LOOMIS BLVD    |0610|BURGLARY          |FORCIBLE ENTRY                                |RESIDENCE                     |false |false   |0614|21  |71            |05      |2015|02/10/2018 03:50:01 PM|Gresham       |7808 S Halsted St     |006               |\n",
            "|10224743|HY411629   |09/04/2015 06:00:00 PM|021XX W CHURCHILL ST   |0620|BURGLARY          |UNLAWFUL ENTRY                                |RESIDENCE-GARAGE              |false |false   |1434|32  |24            |05      |2015|02/10/2018 03:50:01 PM|Shakespeare   |2150 N California Ave |014               |\n",
            "|10224744|HY411605   |09/05/2015 01:00:00 PM|025XX W CERMAK RD      |0860|THEFT             |RETAIL THEFT                                  |GROCERY FOOD STORE            |true  |false   |1034|25  |31            |06      |2015|09/17/2015 11:37:18 AM|Ogden         |3315 W Ogden Ave      |010               |\n",
            "|10224745|HY411654   |09/05/2015 11:30:00 AM|031XX W WASHINGTON BLVD|0320|ROBBERY           |STRONGARM - NO WEAPON                         |STREET                        |false |true    |1222|27  |27            |03      |2015|02/10/2018 03:50:01 PM|Near West     |1412 S Blue Island Ave|012               |\n",
            "|11645836|JC212333   |05/01/2016 12:25:00 AM|055XX S ROCKWELL ST    |1153|DECEPTIVE PRACTICE|FINANCIAL IDENTITY THEFT OVER $ 300           |null                          |false |false   |0824|15  |63            |11      |2016|04/06/2019 04:04:43 PM|Chicago Lawn  |3420 W 63rd St        |008               |\n",
            "|10224746|HY411662   |09/05/2015 02:00:00 PM|071XX S PULASKI RD     |0820|THEFT             |$500 AND UNDER                                |PARKING LOT/GARAGE(NON.RESID.)|false |false   |0833|13  |65            |06      |2015|02/10/2018 03:50:01 PM|Chicago Lawn  |3420 W 63rd St        |008               |\n",
            "|10224749|HY411626   |09/05/2015 11:00:00 AM|052XX N MILWAUKEE AVE  |0460|BATTERY           |SIMPLE                                        |SMALL RETAIL STORE            |false |false   |1623|45  |11            |08B     |2015|02/10/2018 03:50:01 PM|Jefferson Park|5151 N Milwaukee Ave  |016               |\n",
            "|10224750|HY411632   |09/05/2015 03:00:00 AM|0000X W 103RD ST       |2820|OTHER OFFENSE     |TELEPHONE THREAT                              |APARTMENT                     |false |true    |0512|34  |49            |26      |2015|02/10/2018 03:50:01 PM|Calumet       |727 E 111th St        |005               |\n",
            "|10224751|HY411566   |09/05/2015 12:50:00 PM|013XX E 47TH ST        |0486|BATTERY           |DOMESTIC BATTERY SIMPLE                       |STREET                        |false |true    |0222|4   |39            |08B     |2015|02/10/2018 03:50:01 PM|Wentworth     |5101 S Wentworth Ave  |002               |\n",
            "|10224752|HY411601   |09/03/2015 01:00:00 PM|020XX W SCHILLER ST    |0810|THEFT             |OVER $500                                     |STREET                        |false |false   |1424|1   |24            |06      |2015|02/10/2018 03:50:01 PM|Shakespeare   |2150 N California Ave |014               |\n",
            "|10224753|HY411489   |09/05/2015 11:45:00 AM|080XX S JUSTINE ST     |0497|BATTERY           |AGGRAVATED DOMESTIC BATTERY: OTHER DANG WEAPON|APARTMENT                     |false |false   |0612|21  |71            |04B     |2015|02/10/2018 03:50:01 PM|Gresham       |7808 S Halsted St     |006               |\n",
            "|10224754|HY411656   |09/05/2015 01:30:00 PM|007XX N LEAMINGTON AVE |1320|CRIMINAL DAMAGE   |TO VEHICLE                                    |STREET                        |false |false   |1531|28  |25            |14      |2015|02/10/2018 03:50:01 PM|Austin        |5701 W Madison St     |015               |\n",
            "|10224756|HY410094   |07/08/2015 12:00:00 AM|103XX S TORRENCE AVE   |0620|BURGLARY          |UNLAWFUL ENTRY                                |OTHER                         |false |false   |0434|10  |51            |05      |2015|02/10/2018 03:50:01 PM|South Chicago |2255 E 103rd St       |004               |\n",
            "|10224757|HY411388   |09/05/2015 09:55:00 AM|088XX S PAULINA ST     |0610|BURGLARY          |FORCIBLE ENTRY                                |RESIDENCE                     |true  |false   |2221|21  |71            |05      |2015|02/10/2018 03:50:01 PM|Morgan Park   |1900 W Monterey Ave   |022               |\n",
            "|10224758|HY411568   |09/05/2015 12:35:00 PM|059XX W GRACE ST       |0486|BATTERY           |DOMESTIC BATTERY SIMPLE                       |STREET                        |false |true    |1633|38  |15            |08B     |2015|02/10/2018 03:50:01 PM|Jefferson Park|5151 N Milwaukee Ave  |016               |\n",
            "+--------+-----------+----------------------+-----------------------+----+------------------+----------------------------------------------+------------------------------+------+--------+----+----+--------------+--------+----+----------------------+--------------+----------------------+------------------+\n",
            "only showing top 20 rows\n",
            "\n"
          ]
        }
      ]
    },
    {
      "cell_type": "code",
      "source": [
        "df_crime_report.select(\"Primary Type\").distinct().show(truncate=False)"
      ],
      "metadata": {
        "colab": {
          "base_uri": "https://localhost:8080/"
        },
        "id": "rRGwx3EglU8p",
        "outputId": "dd289609-fcf9-4357-ccd1-36bc178c59f7"
      },
      "execution_count": 41,
      "outputs": [
        {
          "output_type": "stream",
          "name": "stdout",
          "text": [
            "+--------------------------------+\n",
            "|Primary Type                    |\n",
            "+--------------------------------+\n",
            "|OFFENSE INVOLVING CHILDREN      |\n",
            "|CRIMINAL SEXUAL ASSAULT         |\n",
            "|STALKING                        |\n",
            "|PUBLIC PEACE VIOLATION          |\n",
            "|OBSCENITY                       |\n",
            "|NON-CRIMINAL (SUBJECT SPECIFIED)|\n",
            "|ARSON                           |\n",
            "|GAMBLING                        |\n",
            "|CRIMINAL TRESPASS               |\n",
            "|ASSAULT                         |\n",
            "|NON - CRIMINAL                  |\n",
            "|LIQUOR LAW VIOLATION            |\n",
            "|MOTOR VEHICLE THEFT             |\n",
            "|THEFT                           |\n",
            "|BATTERY                         |\n",
            "|ROBBERY                         |\n",
            "|HOMICIDE                        |\n",
            "|PUBLIC INDECENCY                |\n",
            "|CRIM SEXUAL ASSAULT             |\n",
            "|HUMAN TRAFFICKING               |\n",
            "+--------------------------------+\n",
            "only showing top 20 rows\n",
            "\n"
          ]
        }
      ]
    },
    {
      "cell_type": "code",
      "source": [
        "df_crime_report.columns"
      ],
      "metadata": {
        "colab": {
          "base_uri": "https://localhost:8080/"
        },
        "id": "0yCWcPL0mmgl",
        "outputId": "0b190ffc-62b9-4830-c843-08090b292f26"
      },
      "execution_count": 50,
      "outputs": [
        {
          "output_type": "execute_result",
          "data": {
            "text/plain": [
              "['DISTRICT',\n",
              " 'DISTRICT NAME',\n",
              " 'ADDRESS',\n",
              " 'CITY',\n",
              " 'STATE',\n",
              " 'ZIP',\n",
              " 'WEBSITE',\n",
              " 'PHONE',\n",
              " 'FAX',\n",
              " 'TTY',\n",
              " 'X COORDINATE',\n",
              " 'Y COORDINATE',\n",
              " 'LATITUDE',\n",
              " 'LONGITUDE',\n",
              " 'LOCATION',\n",
              " 'formatted district',\n",
              " 'formatted_district']"
            ]
          },
          "metadata": {},
          "execution_count": 50
        }
      ]
    },
    {
      "cell_type": "code",
      "source": [
        "df_crime_report.select(\"Primary Type\").orderBy(col(\"Primary Type\")).distinct().show(36,truncate= False)"
      ],
      "metadata": {
        "colab": {
          "base_uri": "https://localhost:8080/"
        },
        "id": "4EbJ2Ex8kb8E",
        "outputId": "98e42979-eaa5-42ff-c50e-4be798ad2369"
      },
      "execution_count": 66,
      "outputs": [
        {
          "output_type": "stream",
          "name": "stdout",
          "text": [
            "+---------------------------------+\n",
            "|Primary Type                     |\n",
            "+---------------------------------+\n",
            "|OFFENSE INVOLVING CHILDREN       |\n",
            "|CRIMINAL SEXUAL ASSAULT          |\n",
            "|STALKING                         |\n",
            "|PUBLIC PEACE VIOLATION           |\n",
            "|OBSCENITY                        |\n",
            "|NON-CRIMINAL (SUBJECT SPECIFIED) |\n",
            "|ARSON                            |\n",
            "|GAMBLING                         |\n",
            "|CRIMINAL TRESPASS                |\n",
            "|ASSAULT                          |\n",
            "|NON - CRIMINAL                   |\n",
            "|LIQUOR LAW VIOLATION             |\n",
            "|MOTOR VEHICLE THEFT              |\n",
            "|THEFT                            |\n",
            "|BATTERY                          |\n",
            "|ROBBERY                          |\n",
            "|HOMICIDE                         |\n",
            "|PUBLIC INDECENCY                 |\n",
            "|CRIM SEXUAL ASSAULT              |\n",
            "|HUMAN TRAFFICKING                |\n",
            "|INTIMIDATION                     |\n",
            "|PROSTITUTION                     |\n",
            "|DECEPTIVE PRACTICE               |\n",
            "|CONCEALED CARRY LICENSE VIOLATION|\n",
            "|SEX OFFENSE                      |\n",
            "|CRIMINAL DAMAGE                  |\n",
            "|NARCOTICS                        |\n",
            "|NON-CRIMINAL                     |\n",
            "|OTHER OFFENSE                    |\n",
            "|KIDNAPPING                       |\n",
            "|BURGLARY                         |\n",
            "|WEAPONS VIOLATION                |\n",
            "|OTHER NARCOTIC VIOLATION         |\n",
            "|INTERFERENCE WITH PUBLIC OFFICER |\n",
            "|DOMESTIC VIOLENCE                |\n",
            "|RITUALISM                        |\n",
            "+---------------------------------+\n",
            "\n"
          ]
        }
      ]
    },
    {
      "cell_type": "code",
      "source": [
        "nc = df_crime_report.filter((col(\"Primary Type\") == \"NON - CRIMINAL\")|(col(\"Primary Type\") == \"NON-CRIMINAL (SUBJECT SPECIFIED)\")|(col(\"Primary Type\") == \"NON-CRIMINAL\"))"
      ],
      "metadata": {
        "id": "tR-r-lDloWD1"
      },
      "execution_count": 67,
      "outputs": []
    },
    {
      "cell_type": "code",
      "source": [
        "nc.groupBy(\"Description\").count().orderBy('count',ascending = False).show()"
      ],
      "metadata": {
        "colab": {
          "base_uri": "https://localhost:8080/"
        },
        "id": "_JFzsLxCqgaQ",
        "outputId": "4ecbc9c5-9982-4447-a6e0-0031eef5a0f6"
      },
      "execution_count": 81,
      "outputs": [
        {
          "output_type": "stream",
          "name": "stdout",
          "text": [
            "+--------------------+-----+\n",
            "|         Description|count|\n",
            "+--------------------+-----+\n",
            "|       LOST PASSPORT|  111|\n",
            "|   FOID - REVOCATION|   76|\n",
            "|CONCEALED CARRY L...|   14|\n",
            "|NOTIFICATION OF C...|    9|\n",
            "|NOTIFICATION OF S...|    8|\n",
            "|      FOUND PASSPORT|    4|\n",
            "|GUN OFFENDER NOTI...|    3|\n",
            "+--------------------+-----+\n",
            "\n"
          ]
        }
      ]
    },
    {
      "cell_type": "code",
      "source": [
        "df_crime_report.show(5)"
      ],
      "metadata": {
        "colab": {
          "base_uri": "https://localhost:8080/"
        },
        "id": "8bk66R8Yqz7w",
        "outputId": "8424f4e1-8c00-411c-d621-0e3d2fc3d22f"
      },
      "execution_count": 82,
      "outputs": [
        {
          "output_type": "stream",
          "name": "stdout",
          "text": [
            "+--------+-----------+--------------------+--------------------+----+------------+--------------------+--------------------+------+--------+----+--------+----+--------------+--------+------------+------------+----+--------------------+------------+-------------+--------------------+\n",
            "|      ID|Case Number|                Date|               Block|IUCR|Primary Type|         Description|Location Description|Arrest|Domestic|Beat|District|Ward|Community Area|FBI Code|X Coordinate|Y Coordinate|Year|          Updated On|    Latitude|    Longitude|            Location|\n",
            "+--------+-----------+--------------------+--------------------+----+------------+--------------------+--------------------+------+--------+----+--------+----+--------------+--------+------------+------------+----+--------------------+------------+-------------+--------------------+\n",
            "|10224738|   HY411648|09/05/2015 01:30:...|     043XX S WOOD ST|0486|     BATTERY|DOMESTIC BATTERY ...|           RESIDENCE| false|    true|0924|     009|  12|            61|     08B|     1165074|     1875917|2015|02/10/2018 03:50:...|41.815117282|-87.669999562|(41.815117282, -8...|\n",
            "|10224739|   HY411615|09/04/2015 11:30:...| 008XX N CENTRAL AVE|0870|       THEFT|      POCKET-PICKING|             CTA BUS| false|   false|1511|     015|  29|            25|      06|     1138875|     1904869|2015|02/10/2018 03:50:...|41.895080471|-87.765400451|(41.895080471, -8...|\n",
            "|11646166|   JC213529|09/01/2018 12:01:...|082XX S INGLESIDE...|0810|       THEFT|           OVER $500|           RESIDENCE| false|    true|0631|     006|   8|            44|      06|        null|        null|2018|04/06/2019 04:04:...|        null|         null|                null|\n",
            "|10224740|   HY411595|09/05/2015 12:45:...|   035XX W BARRY AVE|2023|   NARCOTICS|POSS: HEROIN(BRN/...|            SIDEWALK|  true|   false|1412|     014|  35|            21|      18|     1152037|     1920384|2015|02/10/2018 03:50:...|41.937405765|-87.716649687|(41.937405765, -8...|\n",
            "|10224741|   HY411610|09/05/2015 01:00:...| 0000X N LARAMIE AVE|0560|     ASSAULT|              SIMPLE|           APARTMENT| false|    true|1522|     015|  28|            25|     08A|     1141706|     1900086|2015|02/10/2018 03:50:...|41.881903443|-87.755121152|(41.881903443, -8...|\n",
            "+--------+-----------+--------------------+--------------------+----+------------+--------------------+--------------------+------+--------+----+--------+----+--------------+--------+------------+------------+----+--------------------+------------+-------------+--------------------+\n",
            "only showing top 5 rows\n",
            "\n"
          ]
        }
      ]
    },
    {
      "cell_type": "code",
      "source": [
        "df_crime_report.printSchema()"
      ],
      "metadata": {
        "colab": {
          "base_uri": "https://localhost:8080/"
        },
        "id": "NJpUvRGTsfGu",
        "outputId": "5b2f8b7a-59b2-4f48-cebb-c86edb093862"
      },
      "execution_count": 84,
      "outputs": [
        {
          "output_type": "stream",
          "name": "stdout",
          "text": [
            "root\n",
            " |-- ID: string (nullable = true)\n",
            " |-- Case Number: string (nullable = true)\n",
            " |-- Date: string (nullable = true)\n",
            " |-- Block: string (nullable = true)\n",
            " |-- IUCR: string (nullable = true)\n",
            " |-- Primary Type: string (nullable = true)\n",
            " |-- Description: string (nullable = true)\n",
            " |-- Location Description: string (nullable = true)\n",
            " |-- Arrest: string (nullable = true)\n",
            " |-- Domestic: string (nullable = true)\n",
            " |-- Beat: string (nullable = true)\n",
            " |-- District: string (nullable = true)\n",
            " |-- Ward: string (nullable = true)\n",
            " |-- Community Area: string (nullable = true)\n",
            " |-- FBI Code: string (nullable = true)\n",
            " |-- X Coordinate: string (nullable = true)\n",
            " |-- Y Coordinate: string (nullable = true)\n",
            " |-- Year: string (nullable = true)\n",
            " |-- Updated On: string (nullable = true)\n",
            " |-- Latitude: string (nullable = true)\n",
            " |-- Longitude: string (nullable = true)\n",
            " |-- Location: string (nullable = true)\n",
            "\n"
          ]
        }
      ]
    }
  ],
  "metadata": {
    "colab": {
      "provenance": [],
      "authorship_tag": "ABX9TyPzD5WSBnVaEmI1LP7B1+TE",
      "include_colab_link": true
    },
    "kernelspec": {
      "display_name": "Python 3",
      "name": "python3"
    },
    "language_info": {
      "name": "python"
    }
  },
  "nbformat": 4,
  "nbformat_minor": 0
}